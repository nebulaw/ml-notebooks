{
 "cells": [
  {
   "cell_type": "code",
   "execution_count": 2,
   "id": "c3944107-ee93-48b7-b0c9-0ad24642b8e7",
   "metadata": {},
   "outputs": [],
   "source": [
    "import torch\n",
    "import torch.nn.functional as F\n",
    "import matplotlib.pyplot as plt\n",
    "%matplotlib inline"
   ]
  },
  {
   "cell_type": "code",
   "execution_count": 3,
   "id": "22e43e22-0060-472c-b0a7-04eb86de450f",
   "metadata": {},
   "outputs": [
    {
     "name": "stdout",
     "output_type": "stream",
     "text": [
      "total words: 314532\n"
     ]
    }
   ],
   "source": [
    "def read_words(file_path):\n",
    "    with open(file_path, 'r') as file:\n",
    "        words = set([ word.lower() for word in file.read().splitlines() if word.isalpha() ])\n",
    "        file.close()\n",
    "    return list(words)\n",
    "\n",
    "# read words\n",
    "words = read_words('../geowords.txt')\n",
    "print(f'total words: {len(words)}')"
   ]
  },
  {
   "cell_type": "code",
   "execution_count": 4,
   "id": "648261b2-1ee2-4137-b5cd-a6a82b28af62",
   "metadata": {},
   "outputs": [
    {
     "name": "stdout",
     "output_type": "stream",
     "text": [
      "vocab size: 34\n",
      "vocab: ['ა', 'ბ', 'გ', 'დ', 'ე', 'ვ', 'ზ', 'თ', 'ი', 'კ', 'ლ', 'მ', 'ნ', 'ო', 'პ', 'ჟ', 'რ', 'ს', 'ტ', 'უ', 'ფ', 'ქ', 'ღ', 'ყ', 'შ', 'ჩ', 'ც', 'ძ', 'წ', 'ჭ', 'ხ', 'ჯ', 'ჰ', '.']\n"
     ]
    }
   ],
   "source": [
    "# prepare vocabulary\n",
    "chars = sorted(list(set(''.join(words))))\n",
    "stoi = { s:i+1 for i, s in enumerate(chars) }\n",
    "stoi['.'] = 0\n",
    "itos = { i:s for s, i in stoi.items() }\n",
    "vocab_size = len(stoi)\n",
    "print(f'vocab size: {vocab_size}')\n",
    "print(f'vocab: {[s for s, _ in stoi.items()]}')"
   ]
  },
  {
   "cell_type": "code",
   "execution_count": 5,
   "id": "2b90bffe-63e9-4299-90aa-7da9f1d11354",
   "metadata": {},
   "outputs": [],
   "source": [
    "import random\n",
    "random.seed(42069)\n",
    "random.shuffle(words)"
   ]
  },
  {
   "cell_type": "code",
   "execution_count": 6,
   "id": "689c6296-911c-497f-a489-fc7b05b3f2cf",
   "metadata": {},
   "outputs": [
    {
     "name": "stdout",
     "output_type": "stream",
     "text": [
      "---- training set ----\n",
      "input shape: torch.Size([2555250, 8])\n",
      "label shape: torch.Size([2555250])\n",
      "total samples: 2555250\n",
      "---- validation set ----\n",
      "input shape: torch.Size([319854, 8])\n",
      "label shape: torch.Size([319854])\n",
      "total samples: 319854\n",
      "---- testing set ----\n",
      "input shape: torch.Size([320115, 8])\n",
      "label shape: torch.Size([320115])\n",
      "total samples: 320115\n"
     ]
    }
   ],
   "source": [
    "# build dataset of words\n",
    "block_size = 8\n",
    "def build_dataset(words_set):\n",
    "    X, Y = [], []\n",
    "    for word in words_set:\n",
    "        context = [0] * block_size\n",
    "        for ch in word + '.':\n",
    "            ix = stoi[ch]\n",
    "            X.append(context)\n",
    "            Y.append(ix)\n",
    "            context = context[1:] + [ix]\n",
    "    X = torch.tensor(X)\n",
    "    Y = torch.tensor(Y)\n",
    "    return X, Y\n",
    "\n",
    "n1 = int(0.8 * len(words))\n",
    "n2 = int(0.9 * len(words))\n",
    "X_train, y_train = build_dataset(words[:n1])\n",
    "X_dev, y_dev = build_dataset(words[n1:n2])\n",
    "X_test, y_test = build_dataset(words[n2:])\n",
    "\n",
    "print(f'---- training set ----')\n",
    "print(f'input shape: {X_train.shape}')\n",
    "print(f'label shape: {y_train.shape}')\n",
    "print(f'total samples: {X_train.shape[0]}')\n",
    "print(f'---- validation set ----')\n",
    "print(f'input shape: {X_dev.shape}')\n",
    "print(f'label shape: {y_dev.shape}')\n",
    "print(f'total samples: {X_dev.shape[0]}')\n",
    "print(f'---- testing set ----')\n",
    "print(f'input shape: {X_test.shape}')\n",
    "print(f'label shape: {y_test.shape}')\n",
    "print(f'total samples: {X_test.shape[0]}')"
   ]
  },
  {
   "cell_type": "code",
   "execution_count": 7,
   "id": "575d0272-7c88-42d9-8b75-7c056f61ff03",
   "metadata": {},
   "outputs": [
    {
     "name": "stdout",
     "output_type": "stream",
     "text": [
      "........ --> ე\n",
      ".......ე --> ტ\n",
      "......ეტ --> რ\n",
      ".....ეტრ --> ა\n",
      "....ეტრა --> ტ\n",
      "...ეტრატ --> ზ\n",
      "..ეტრატზ --> ე\n",
      ".ეტრატზე --> .\n",
      "........ --> ა\n",
      ".......ა --> პ\n",
      "......აპ --> მ\n",
      ".....აპმ --> ლ\n",
      "....აპმლ --> ი\n",
      "...აპმლი --> ტ\n",
      "..აპმლიტ --> უ\n",
      ".აპმლიტუ --> დ\n",
      "აპმლიტუდ --> ა\n",
      "პმლიტუდა --> .\n",
      "........ --> ბ\n",
      ".......ბ --> ა\n"
     ]
    }
   ],
   "source": [
    "for x, y in zip(X_train[:20], y_train[:20]):\n",
    "    print(''.join(itos[ix.item()] for ix in x), '-->', itos[y.item()])"
   ]
  },
  {
   "cell_type": "code",
   "execution_count": 8,
   "id": "ba9a4463-3809-4d33-ab84-719ce0385e32",
   "metadata": {},
   "outputs": [],
   "source": [
    "class Module:\n",
    "    def __call__(self, x):\n",
    "        return self.forward(x)\n",
    "    def forward(self, x):\n",
    "        raise NotImplementedError\n",
    "    def params(self):\n",
    "        raise NotImplementedError\n",
    "    \n",
    "class Linear(Module):\n",
    "    def __init__(self, fan_in, fan_out, bias=True):\n",
    "        # batch normalization does not require xavier initialization: fan_in**0.5\n",
    "        # this initialization works for non-linearities, such as tanh. but won't\n",
    "        # work for relu or such. if using relu, or other linearities the case\n",
    "        # of '(fan_in/2)**0.5' will converge and works fine.\n",
    "        self.weights = torch.randn((fan_in, fan_out)) / fan_in**0.5\n",
    "        self.bias = torch.zeros(fan_out) if bias else None\n",
    "    def forward(self, x):\n",
    "        self.out = x @ self.weights\n",
    "        if self.bias is not None: self.out += self.bias\n",
    "        return self.out\n",
    "    def params(self):\n",
    "        return [self.weights] + ([self.bias] if self.bias is not None else [])\n",
    "\n",
    "class BatchNorm1d(Module):\n",
    "    def __init__(self, dim, eps=1e-5, momentum=0.1):\n",
    "        self.eps = eps\n",
    "        self.momentum = momentum\n",
    "        self.training = True\n",
    "        # these are the parameters to adjust, tweak\n",
    "        # and shift normalized data. gamma is a\n",
    "        # scalar value and beta is a shifter.\n",
    "        self.gamma = torch.ones(dim)\n",
    "        self.beta = torch.zeros(dim)\n",
    "        # buffers (trained with a running 'momentum update')\n",
    "        self.running_mean = torch.zeros(dim)\n",
    "        self.running_var = torch.ones(dim)\n",
    "    def forward(self, x):\n",
    "        # if nn is in training mode we calculate batch\n",
    "        # mean and variance. else if testing or evaluating\n",
    "        # we need running mean and variance\n",
    "        if self.training:\n",
    "            if x.ndim == 2:\n",
    "                dim = 0\n",
    "            elif x.ndim == 3:\n",
    "                dim = (0, 1)\n",
    "            xmean = x.mean(dim, keepdim=True)\n",
    "            xvar = x.var(dim, keepdim=True) #, unbiased=True)\n",
    "        else:\n",
    "            xmean = self.running_mean\n",
    "            xvar = self.running_var\n",
    "        xhat = (x - xmean) / torch.sqrt(xvar + self.eps)\n",
    "        self.out = self.gamma * xhat + self.beta\n",
    "        # in training mode, we have to update buffers\n",
    "        if self.training:\n",
    "            with torch.no_grad():\n",
    "                self.running_mean = (1 - self.momentum) * self.running_mean + self.momentum * xmean\n",
    "                self.running_var = (1 - self.momentum) * self.running_var + self.momentum * xvar\n",
    "        return self.out\n",
    "    def params(self):\n",
    "        return [self.gamma, self.beta]\n",
    "\n",
    "class Tanh(Module):\n",
    "    def forward(self, x):\n",
    "        self.out = torch.tanh(x)\n",
    "        return self.out\n",
    "    def params(self):\n",
    "        return []\n",
    "\n",
    "class Embedding(Module):\n",
    "    def __init__(self, num_embeddings, embedding_dim):\n",
    "        self.weights = torch.randn((num_embeddings, embedding_dim))\n",
    "    def __call__(self, IX):\n",
    "        self.out = self.weights[IX]\n",
    "        return self.out\n",
    "    def params(self):\n",
    "        return [self.weights]\n",
    "\n",
    "class FlattenConsecutive(Module):\n",
    "    def __init__(self, n):\n",
    "        self.n = n\n",
    "    def __call__(self, x):\n",
    "        B, T, C = x.shape\n",
    "        x = x.view(B, T//self.n, C*self.n)\n",
    "        if x.shape[1] == 1:\n",
    "            x = x.squeeze(1)\n",
    "        self.out = x\n",
    "        return self.out\n",
    "    def params(self):\n",
    "        return []\n",
    "\n",
    "class Sequential(Module):\n",
    "    def __init__(self, layers):\n",
    "        self.layers = layers\n",
    "\n",
    "    def __call__(self, x):\n",
    "        for layer in self.layers:\n",
    "            x = layer(x)\n",
    "        return x\n",
    "\n",
    "    def params(self):\n",
    "        return [p for layer in self.layers for p in layer.params()]"
   ]
  },
  {
   "cell_type": "code",
   "execution_count": 31,
   "id": "6280d1c7-15b5-4ae0-bb18-251834d36ada",
   "metadata": {},
   "outputs": [
    {
     "data": {
      "text/plain": [
       "<torch._C.Generator at 0x779928958230>"
      ]
     },
     "execution_count": 31,
     "metadata": {},
     "output_type": "execute_result"
    }
   ],
   "source": [
    "torch.manual_seed(42069)"
   ]
  },
  {
   "cell_type": "code",
   "execution_count": 9,
   "id": "850ae610-1fdf-454f-97be-5505f4b6ec7f",
   "metadata": {},
   "outputs": [
    {
     "name": "stdout",
     "output_type": "stream",
     "text": [
      "number of parameters: 46374\n"
     ]
    }
   ],
   "source": [
    "# preparing neural network\n",
    "n_embd = 10\n",
    "n_hidden = 100\n",
    "\n",
    "model = Sequential([\n",
    "    Embedding(vocab_size, n_embd),\n",
    "    FlattenConsecutive(2), Linear(n_embd * 2, n_hidden, bias=False), BatchNorm1d(n_hidden), Tanh(),\n",
    "    FlattenConsecutive(2), Linear(n_hidden * 2, n_hidden, bias=False), BatchNorm1d(n_hidden), Tanh(),\n",
    "    FlattenConsecutive(2), Linear(n_hidden * 2, n_hidden, bias=False), BatchNorm1d(n_hidden), Tanh(),\n",
    "    Linear(n_hidden, vocab_size),\n",
    "])\n",
    "\n",
    "layers = model.layers\n",
    "\n",
    "with torch.no_grad():\n",
    "    layers[-1].weights *= 0.1\n",
    "    # we should apply gain for other \n",
    "    # for layer in layers[:-1]:\n",
    "    #     if isinstance(layer, Linear):\n",
    "    #         layer.weights *= 5/3\n",
    "\n",
    "params = model.params()\n",
    "print(f\"number of parameters: {sum([p.nelement() for p in params])}\")\n",
    "for p in params:\n",
    "    p.requires_grad = True"
   ]
  },
  {
   "cell_type": "code",
   "execution_count": 10,
   "id": "df213768-6119-40e3-8434-e9e1f6909f56",
   "metadata": {},
   "outputs": [
    {
     "name": "stdout",
     "output_type": "stream",
     "text": [
      "step: 0; loss: 3.5315\n",
      "step: 20000; loss: 2.2981\n",
      "step: 40000; loss: 2.2076\n",
      "step: 60000; loss: 2.1717\n",
      "step: 80000; loss: 1.9670\n",
      "step: 100000; loss: 2.6078\n",
      "step: 120000; loss: 1.8032\n",
      "step: 140000; loss: 1.9227\n",
      "step: 160000; loss: 1.9041\n",
      "step: 180000; loss: 2.4416\n",
      "step: 200000; loss: 2.0136\n",
      "step: 220000; loss: 2.3990\n",
      "step: 240000; loss: 2.4787\n",
      "step: 260000; loss: 1.9776\n",
      "step: 280000; loss: 2.2583\n",
      "step: 300000; loss: 2.0066\n",
      "step: 320000; loss: 1.8456\n",
      "step: 340000; loss: 2.1586\n",
      "step: 360000; loss: 1.7200\n",
      "step: 380000; loss: 1.9880\n",
      "step: 400000; loss: 1.9384\n"
     ]
    }
   ],
   "source": [
    "# training phase\n",
    "max_steps = 400_000\n",
    "batch_size = 64\n",
    "lossi = []\n",
    "\n",
    "for i in range(0, max_steps + 1):\n",
    "    # batch construct\n",
    "    ix = torch.randint(0, X_train.shape[0], (batch_size, ))\n",
    "    X_batch, y_batch = X_train[ix], y_train[ix]\n",
    "    \n",
    "    logits = model(X_batch)\n",
    "    loss = F.cross_entropy(logits, y_batch)\n",
    "\n",
    "    # backward pass\n",
    "    # for layer in layers:\n",
    "    #     layer.out.retain_grad()\n",
    "    for param in params:\n",
    "        param.grad = None\n",
    "    loss.backward()\n",
    "\n",
    "    # update params\n",
    "    lr = 0.1 if i < 150_000 else 0.01\n",
    "    for param in params:\n",
    "        param.data += -lr * param.grad\n",
    "\n",
    "    # tracking\n",
    "    if i % 20_000 == 0:\n",
    "        print(f'step: {i}; loss: {loss.item():.4f}')\n",
    "    lossi.append(loss.log10().item())"
   ]
  },
  {
   "cell_type": "code",
   "execution_count": 11,
   "id": "ebe51add-7f57-44dd-b033-fa6addd97a55",
   "metadata": {},
   "outputs": [
    {
     "data": {
      "text/plain": [
       "[<matplotlib.lines.Line2D at 0x73020cc326f0>]"
      ]
     },
     "execution_count": 11,
     "metadata": {},
     "output_type": "execute_result"
    },
    {
     "data": {
      "image/png": "[encoded data removed]",
      "text/plain": [
       "<Figure size 640x480 with 1 Axes>"
      ]
     },
     "metadata": {},
     "output_type": "display_data"
    }
   ],
   "source": [
    "plt.plot(torch.tensor(lossi[:-1]).view(-1, 1000).mean(1))"
   ]
  },
  {
   "cell_type": "code",
   "execution_count": 16,
   "id": "55c02f45-fa90-4be9-a419-d239a026afce",
   "metadata": {},
   "outputs": [],
   "source": [
    "for layer in model.layers:\n",
    "    layer.training = False"
   ]
  },
  {
   "cell_type": "code",
   "execution_count": 14,
   "id": "a6b9ba59-486a-4291-92d9-50a744ae4dc0",
   "metadata": {},
   "outputs": [
    {
     "name": "stdout",
     "output_type": "stream",
     "text": [
      "test 2.047457456588745\n",
      "val 2.0582492351531982\n"
     ]
    }
   ],
   "source": [
    "@torch.no_grad()\n",
    "def split_loss(split):\n",
    "    x, y = {\n",
    "        'train': (X_train, y_train),\n",
    "        'val': (X_dev, y_dev),\n",
    "        'test': (X_test, y_test),\n",
    "    }[split]\n",
    "    logits = model(x)\n",
    "    loss = F.cross_entropy(logits, y)\n",
    "    print(split, loss.item())\n",
    "\n",
    "split_loss('test')\n",
    "split_loss('val')"
   ]
  },
  {
   "cell_type": "code",
   "execution_count": 22,
   "id": "3e0f5117-1476-491f-93a8-f6a8dfedeaaf",
   "metadata": {
    "editable": true,
    "slideshow": {
     "slide_type": ""
    },
    "tags": []
   },
   "outputs": [
    {
     "name": "stdout",
     "output_type": "stream",
     "text": [
      "გამოღარსება.\n",
      "მემმოთექნო.\n",
      "დაგიფურგულიყისა.\n",
      "აღსალთ.\n",
      "უგანივებდეს.\n",
      "ლიქრინებ.\n",
      "სენსაგისტმა.\n",
      "გეპაგურ.\n",
      "ძლევისთამეებზე.\n",
      "ხერდისა.\n",
      "შენაციების.\n",
      "არაასიათი.\n",
      "კონეიდაი.\n",
      "კონპულინი.\n",
      "მოხრწხათ.\n",
      "ანგელოიდა.\n",
      "მაჰერიონებინა.\n",
      "კოშკრეტის.\n",
      "გაამართავთა.\n",
      "შეეფიცნეი.\n"
     ]
    }
   ],
   "source": [
    "for _ in range(20):\n",
    "    out = []\n",
    "    context = [0] * block_size\n",
    "    while True:\n",
    "        logits = model(torch.tensor([context]))\n",
    "        probs = F.softmax(logits, dim=1)\n",
    "        ix = torch.multinomial(probs, num_samples=1).item()\n",
    "        context = context[1:] + [ix]\n",
    "        out.append(ix)\n",
    "        if ix == 0:\n",
    "            break\n",
    "    print(''.join(itos[i] for i in out))"
   ]
  },
  {
   "cell_type": "code",
   "execution_count": null,
   "id": "deb39845-4e42-4d6b-927a-9106c79c753e",
   "metadata": {},
   "outputs": [],
   "source": []
  }
 ],
 "metadata": {
  "kernelspec": {
   "display_name": "Python 3 (ipykernel)",
   "language": "python",
   "name": "python3"
  },
  "language_info": {
   "codemirror_mode": {
    "name": "ipython",
    "version": 3
   },
   "file_extension": ".py",
   "mimetype": "text/x-python",
   "name": "python",
   "nbconvert_exporter": "python",
   "pygments_lexer": "ipython3",
   "version": "3.12.4"
  }
 },
 "nbformat": 4,
 "nbformat_minor": 5
}
